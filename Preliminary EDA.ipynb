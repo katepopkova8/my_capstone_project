{
 "cells": [
  {
   "cell_type": "markdown",
   "id": "264fbff1-77a3-4b29-af5f-64529db4a9af",
   "metadata": {},
   "source": [
    "<img src=\"https://images.emojiterra.com/google/android-12l/512px/1f4da.png\"\n",
    "    style=\"width:100px; float: right; margin: 0 10px 10px 10px;\"></img>\n",
    "# EDA and Data Preprocessing\n",
    "**Price Prediction Model for Books (in EUR)**\n",
    "***"
   ]
  },
  {
   "cell_type": "markdown",
   "id": "05e52909-3977-46cc-94de-3bc1b4fb3e7a",
   "metadata": {},
   "source": [
    "Link to a dataset: https://zenodo.org/records/4265096"
   ]
  },
  {
   "cell_type": "markdown",
   "id": "490ba0b1-07a1-4178-b786-40d0aba8de99",
   "metadata": {},
   "source": [
    "Prepared by Kate Popkova"
   ]
  },
  {
   "cell_type": "markdown",
   "id": "eb6c628e-b0b4-42d9-bfe7-7de83e1763a9",
   "metadata": {
    "tags": []
   },
   "source": [
    "## Table of Contents\n",
    "\n",
    "1. [Introduction](#introduction)\n",
    "2. [Understanding the Dataset](#Understanding-the-Dataset)\n",
    "3. [Part 1: Data Exploration](#Part-1:-Data-Exploration)"
   ]
  },
  {
   "cell_type": "markdown",
   "id": "a696776e-e681-490b-98ca-111650d2eaf3",
   "metadata": {
    "tags": []
   },
   "source": [
    "![purple-divider](https://user-images.githubusercontent.com/7065401/52071927-c1cd7100-2562-11e9-908a-dde91ba14e59.png)\n",
    "## Introduction\n",
    "\n",
    "The book industry faces the complex challenge of pricing books in a way that maximizes profit while remaining attractive to readers. Factors influencing book prices include author popularity, genre trends, publication date, and market demand.\n",
    "\n",
    "**Opportunities**:\n",
    "1. Dynamic Pricing Strategy: Leveraging data to adjust prices in response to market demands and trends.\n",
    "2. Inventory Management: Bookstores and online retailers can manage stock more efficiently by understanding which books are likely to sell at certain prices.\n",
    "3. Market Analysis: Insight into which factors most significantly impact book prices can guide publishers and authors in decision-making processes, from marketing strategies to choosing publication dates.\n",
    "\n",
    "**Who Experiences These Problems?**\n",
    "- Publishers: Struggle to set optimal prices that balance profitability with market competitiveness.\n",
    "- Retailers: Both online and physical bookstores need to competitively price books to maximize sales and manage inventory. \n",
    "- Authors: Especially self-published authors, who must decide on the pricing of their books without the resources of large publishing houses.\n",
    "\n",
    "**Benefit from the Outcomes**:\n",
    "- Access to a data-driven pricing model can assist in making more informed decisions, potentially increasing sales and profit margins.\n",
    "- Better pricing strategies lead to improved customer satisfaction and loyalty.\n",
    "\n",
    "#### **The Big Idea: Machine Learning Solutions**\n",
    "Machine learning can revolutionize book pricing by providing a predictive model that considers a wide range of factors influencing a book's value in the market.\n",
    "\n",
    "- Pattern Recognition: Machine learning algorithms can identify patterns and correlations between various factors (like genre popularity, author reputation, and historical sales data) and book prices.\n",
    "- Predictive Analytics: By analyzing historical data, the model can forecast optimal pricing points for new or existing books.\n",
    "- Customization: Machine learning models can be trained to adapt to specific market segments, genres, or geographical regions, providing tailored pricing strategies.\n",
    "\n",
    "#### **The Impact: Societal and Business Value**\n",
    "\n",
    "**Business Value**\n",
    "\n",
    "- Increased Profitability: More accurate pricing leads to better sales and profit margins.\n",
    "- Market Competitiveness: Businesses can stay competitive by dynamically adjusting prices in response to market trends.\n",
    "- Efficient Inventory Management: Reduces the likelihood of overstocking or understocking.\n",
    "\n",
    "**Societal Value**\n",
    "\n",
    "- Accessibility: Properly priced books become more accessible to a broader audience, potentially increasing literacy and education.\n",
    "- Author Recognition: Fair pricing strategies can lead to more equitable recognition and compensation for authors, especially those who are new or self-published.\n",
    "\n",
    "My projects aims to build a price prediction model in the book industry. The dataset I'll be using has 52,478 records on books collected from an e-commerce platform called Iberlibro (https://www.iberlibro.com/). IberLibro is an online platform for the buying and selling of books, art and collectibles . It is trusted by independent sellers around the world to offer millions of new, second-hand and collectible books; as well as art and collecting items.\n",
    "\n",
    "The dataset was created by two students Lorena Casanova Lozano and Sergio Costa Planells in 2020 in Barcelona, Spain. \n",
    "\n",
    "In this notebook, I will explore and perform Exploratory Data Analysis (EDA) to uncover valuable insights from the data, identify patterns, correlations, and interesting trends. \n"
   ]
  },
  {
   "cell_type": "markdown",
   "id": "431bab2c-557f-47e4-bfd0-5379d26feab6",
   "metadata": {
    "tags": []
   },
   "source": [
    "![purple-divider](https://user-images.githubusercontent.com/7065401/52071927-c1cd7100-2562-11e9-908a-dde91ba14e59.png)\n",
    "## Understanding the Dataset\n",
    "\n",
    "My dataset (books_1.Best_Books_Ever.csv) containes the following fields:"
   ]
  },
  {
   "cell_type": "markdown",
   "id": "24fd275d-578d-40c2-8338-817dea25a67a",
   "metadata": {},
   "source": [
    "| Attributes | Definition|\n",
    "|:------------|:------------|\n",
    "| bookId     | Book Identifier as in goodreads.com |\n",
    "| title      | Book title |\n",
    "| series     | Series Name |\n",
    "| author      | Book's Author |\n",
    "| rating     | Global goodreads rating |\n",
    "| description      | Book's description |\n",
    "| language     | Book's language |\n",
    "| isbn     | Book's ISBN |\n",
    "| genres     | Book's genres |\n",
    "| characters      | Main characters |\n",
    "| bookFormat     | Type of binding |\n",
    "| edition     | Type of edition (ex. Anniversary Edition) |\n",
    "| pages     | Number of pages |\n",
    "| publisher      | Editorial |\n",
    "| publishDate      | Publication date |\n",
    "| firstPublishDate      | Publication date of first edition |\n",
    "| awards      | List of awards |\n",
    "| numRatings      | Number of total ratings|\n",
    "| likedPercent      | Derived field, percent of ratings over 2 starts (as in GoodReads) |\n",
    "| setting      | Story setting |\n",
    "| coverImg      | URL to cover image |\n",
    "| bbeScore      | Score in Best Books Ever list |\n",
    "| bbeVotes      | Number of votes in Best Books Ever list |\n",
    "| price      | Book's price in EUR (extracted from Iberlibro) |\n",
    "\n"
   ]
  },
  {
   "cell_type": "markdown",
   "id": "bbfa1f84-741f-4c5d-b5ce-25127b563de3",
   "metadata": {},
   "source": [
    "**`price`** is my target variable, and I'll be focusing on attributes relevant to book pricing, such as \n",
    "- **`author`**, \n",
    "- **`rating`**, \n",
    "- **`genres`**, \n",
    "- **`pages`**, \n",
    "- **`publisher`**, \n",
    "- **`publishDate`**, \n",
    "- **`awards`**, \n",
    "- **`numRatings`**, and \n",
    "- **`bbeScore`**."
   ]
  },
  {
   "cell_type": "markdown",
   "id": "7519c323-088e-4a95-bd46-704a27ee6bb2",
   "metadata": {},
   "source": [
    "![purple-divider](https://user-images.githubusercontent.com/7065401/52071927-c1cd7100-2562-11e9-908a-dde91ba14e59.png)\n",
    "## Part 1: Data Exploration"
   ]
  },
  {
   "cell_type": "code",
   "execution_count": 41,
   "id": "84f1e996-3723-46f2-88a8-f10fbc5dc4ae",
   "metadata": {
    "tags": []
   },
   "outputs": [],
   "source": [
    "# to import the required libraries\n",
    "import numpy as np\n",
    "import pandas as pd\n",
    "import matplotlib.pyplot as plt\n",
    "import seaborn as sns\n",
    "from scipy import stats"
   ]
  },
  {
   "cell_type": "code",
   "execution_count": 42,
   "id": "5f4effdf-56a2-4493-941a-15511e63f74d",
   "metadata": {
    "tags": []
   },
   "outputs": [
    {
     "data": {
      "text/html": [
       "<div>\n",
       "<style scoped>\n",
       "    .dataframe tbody tr th:only-of-type {\n",
       "        vertical-align: middle;\n",
       "    }\n",
       "\n",
       "    .dataframe tbody tr th {\n",
       "        vertical-align: top;\n",
       "    }\n",
       "\n",
       "    .dataframe thead th {\n",
       "        text-align: right;\n",
       "    }\n",
       "</style>\n",
       "<table border=\"1\" class=\"dataframe\">\n",
       "  <thead>\n",
       "    <tr style=\"text-align: right;\">\n",
       "      <th></th>\n",
       "      <th>bookId</th>\n",
       "      <th>title</th>\n",
       "      <th>series</th>\n",
       "      <th>author</th>\n",
       "      <th>rating</th>\n",
       "      <th>description</th>\n",
       "      <th>language</th>\n",
       "      <th>isbn</th>\n",
       "      <th>genres</th>\n",
       "      <th>characters</th>\n",
       "      <th>...</th>\n",
       "      <th>firstPublishDate</th>\n",
       "      <th>awards</th>\n",
       "      <th>numRatings</th>\n",
       "      <th>ratingsByStars</th>\n",
       "      <th>likedPercent</th>\n",
       "      <th>setting</th>\n",
       "      <th>coverImg</th>\n",
       "      <th>bbeScore</th>\n",
       "      <th>bbeVotes</th>\n",
       "      <th>price</th>\n",
       "    </tr>\n",
       "  </thead>\n",
       "  <tbody>\n",
       "    <tr>\n",
       "      <th>0</th>\n",
       "      <td>2767052-the-hunger-games</td>\n",
       "      <td>The Hunger Games</td>\n",
       "      <td>The Hunger Games #1</td>\n",
       "      <td>Suzanne Collins</td>\n",
       "      <td>4.33</td>\n",
       "      <td>WINNING MEANS FAME AND FORTUNE.LOSING MEANS CE...</td>\n",
       "      <td>English</td>\n",
       "      <td>9780439023481</td>\n",
       "      <td>['Young Adult', 'Fiction', 'Dystopia', 'Fantas...</td>\n",
       "      <td>['Katniss Everdeen', 'Peeta Mellark', 'Cato (H...</td>\n",
       "      <td>...</td>\n",
       "      <td>NaN</td>\n",
       "      <td>['Locus Award Nominee for Best Young Adult Boo...</td>\n",
       "      <td>6376780</td>\n",
       "      <td>['3444695', '1921313', '745221', '171994', '93...</td>\n",
       "      <td>96.0</td>\n",
       "      <td>['District 12, Panem', 'Capitol, Panem', 'Pane...</td>\n",
       "      <td>https://i.gr-assets.com/images/S/compressed.ph...</td>\n",
       "      <td>2993816</td>\n",
       "      <td>30516</td>\n",
       "      <td>5.09</td>\n",
       "    </tr>\n",
       "    <tr>\n",
       "      <th>1</th>\n",
       "      <td>2.Harry_Potter_and_the_Order_of_the_Phoenix</td>\n",
       "      <td>Harry Potter and the Order of the Phoenix</td>\n",
       "      <td>Harry Potter #5</td>\n",
       "      <td>J.K. Rowling, Mary GrandPré (Illustrator)</td>\n",
       "      <td>4.50</td>\n",
       "      <td>There is a door at the end of a silent corrido...</td>\n",
       "      <td>English</td>\n",
       "      <td>9780439358071</td>\n",
       "      <td>['Fantasy', 'Young Adult', 'Fiction', 'Magic',...</td>\n",
       "      <td>['Sirius Black', 'Draco Malfoy', 'Ron Weasley'...</td>\n",
       "      <td>...</td>\n",
       "      <td>06/21/03</td>\n",
       "      <td>['Bram Stoker Award for Works for Young Reader...</td>\n",
       "      <td>2507623</td>\n",
       "      <td>['1593642', '637516', '222366', '39573', '14526']</td>\n",
       "      <td>98.0</td>\n",
       "      <td>['Hogwarts School of Witchcraft and Wizardry (...</td>\n",
       "      <td>https://i.gr-assets.com/images/S/compressed.ph...</td>\n",
       "      <td>2632233</td>\n",
       "      <td>26923</td>\n",
       "      <td>7.38</td>\n",
       "    </tr>\n",
       "    <tr>\n",
       "      <th>2</th>\n",
       "      <td>2657.To_Kill_a_Mockingbird</td>\n",
       "      <td>To Kill a Mockingbird</td>\n",
       "      <td>To Kill a Mockingbird</td>\n",
       "      <td>Harper Lee</td>\n",
       "      <td>4.28</td>\n",
       "      <td>The unforgettable novel of a childhood in a sl...</td>\n",
       "      <td>English</td>\n",
       "      <td>9999999999999</td>\n",
       "      <td>['Classics', 'Fiction', 'Historical Fiction', ...</td>\n",
       "      <td>['Scout Finch', 'Atticus Finch', 'Jem Finch', ...</td>\n",
       "      <td>...</td>\n",
       "      <td>07/11/60</td>\n",
       "      <td>['Pulitzer Prize for Fiction (1961)', 'Audie A...</td>\n",
       "      <td>4501075</td>\n",
       "      <td>['2363896', '1333153', '573280', '149952', '80...</td>\n",
       "      <td>95.0</td>\n",
       "      <td>['Maycomb, Alabama (United States)']</td>\n",
       "      <td>https://i.gr-assets.com/images/S/compressed.ph...</td>\n",
       "      <td>2269402</td>\n",
       "      <td>23328</td>\n",
       "      <td>NaN</td>\n",
       "    </tr>\n",
       "    <tr>\n",
       "      <th>3</th>\n",
       "      <td>1885.Pride_and_Prejudice</td>\n",
       "      <td>Pride and Prejudice</td>\n",
       "      <td>NaN</td>\n",
       "      <td>Jane Austen, Anna Quindlen (Introduction)</td>\n",
       "      <td>4.26</td>\n",
       "      <td>Alternate cover edition of ISBN 9780679783268S...</td>\n",
       "      <td>English</td>\n",
       "      <td>9999999999999</td>\n",
       "      <td>['Classics', 'Fiction', 'Romance', 'Historical...</td>\n",
       "      <td>['Mr. Bennet', 'Mrs. Bennet', 'Jane Bennet', '...</td>\n",
       "      <td>...</td>\n",
       "      <td>01/28/13</td>\n",
       "      <td>[]</td>\n",
       "      <td>2998241</td>\n",
       "      <td>['1617567', '816659', '373311', '113934', '767...</td>\n",
       "      <td>94.0</td>\n",
       "      <td>['United Kingdom', 'Derbyshire, England (Unite...</td>\n",
       "      <td>https://i.gr-assets.com/images/S/compressed.ph...</td>\n",
       "      <td>1983116</td>\n",
       "      <td>20452</td>\n",
       "      <td>NaN</td>\n",
       "    </tr>\n",
       "    <tr>\n",
       "      <th>4</th>\n",
       "      <td>41865.Twilight</td>\n",
       "      <td>Twilight</td>\n",
       "      <td>The Twilight Saga #1</td>\n",
       "      <td>Stephenie Meyer</td>\n",
       "      <td>3.60</td>\n",
       "      <td>About three things I was absolutely positive.\\...</td>\n",
       "      <td>English</td>\n",
       "      <td>9780316015844</td>\n",
       "      <td>['Young Adult', 'Fantasy', 'Romance', 'Vampire...</td>\n",
       "      <td>['Edward Cullen', 'Jacob Black', 'Laurent', 'R...</td>\n",
       "      <td>...</td>\n",
       "      <td>10/05/05</td>\n",
       "      <td>['Georgia Peach Book Award (2007)', 'Buxtehude...</td>\n",
       "      <td>4964519</td>\n",
       "      <td>['1751460', '1113682', '1008686', '542017', '5...</td>\n",
       "      <td>78.0</td>\n",
       "      <td>['Forks, Washington (United States)', 'Phoenix...</td>\n",
       "      <td>https://i.gr-assets.com/images/S/compressed.ph...</td>\n",
       "      <td>1459448</td>\n",
       "      <td>14874</td>\n",
       "      <td>2.1</td>\n",
       "    </tr>\n",
       "  </tbody>\n",
       "</table>\n",
       "<p>5 rows × 25 columns</p>\n",
       "</div>"
      ],
      "text/plain": [
       "                                        bookId  \\\n",
       "0                     2767052-the-hunger-games   \n",
       "1  2.Harry_Potter_and_the_Order_of_the_Phoenix   \n",
       "2                   2657.To_Kill_a_Mockingbird   \n",
       "3                     1885.Pride_and_Prejudice   \n",
       "4                               41865.Twilight   \n",
       "\n",
       "                                       title                 series  \\\n",
       "0                           The Hunger Games    The Hunger Games #1   \n",
       "1  Harry Potter and the Order of the Phoenix        Harry Potter #5   \n",
       "2                      To Kill a Mockingbird  To Kill a Mockingbird   \n",
       "3                        Pride and Prejudice                    NaN   \n",
       "4                                   Twilight   The Twilight Saga #1   \n",
       "\n",
       "                                      author  rating  \\\n",
       "0                            Suzanne Collins    4.33   \n",
       "1  J.K. Rowling, Mary GrandPré (Illustrator)    4.50   \n",
       "2                                 Harper Lee    4.28   \n",
       "3  Jane Austen, Anna Quindlen (Introduction)    4.26   \n",
       "4                            Stephenie Meyer    3.60   \n",
       "\n",
       "                                         description language           isbn  \\\n",
       "0  WINNING MEANS FAME AND FORTUNE.LOSING MEANS CE...  English  9780439023481   \n",
       "1  There is a door at the end of a silent corrido...  English  9780439358071   \n",
       "2  The unforgettable novel of a childhood in a sl...  English  9999999999999   \n",
       "3  Alternate cover edition of ISBN 9780679783268S...  English  9999999999999   \n",
       "4  About three things I was absolutely positive.\\...  English  9780316015844   \n",
       "\n",
       "                                              genres  \\\n",
       "0  ['Young Adult', 'Fiction', 'Dystopia', 'Fantas...   \n",
       "1  ['Fantasy', 'Young Adult', 'Fiction', 'Magic',...   \n",
       "2  ['Classics', 'Fiction', 'Historical Fiction', ...   \n",
       "3  ['Classics', 'Fiction', 'Romance', 'Historical...   \n",
       "4  ['Young Adult', 'Fantasy', 'Romance', 'Vampire...   \n",
       "\n",
       "                                          characters  ... firstPublishDate  \\\n",
       "0  ['Katniss Everdeen', 'Peeta Mellark', 'Cato (H...  ...              NaN   \n",
       "1  ['Sirius Black', 'Draco Malfoy', 'Ron Weasley'...  ...         06/21/03   \n",
       "2  ['Scout Finch', 'Atticus Finch', 'Jem Finch', ...  ...         07/11/60   \n",
       "3  ['Mr. Bennet', 'Mrs. Bennet', 'Jane Bennet', '...  ...         01/28/13   \n",
       "4  ['Edward Cullen', 'Jacob Black', 'Laurent', 'R...  ...         10/05/05   \n",
       "\n",
       "                                              awards numRatings  \\\n",
       "0  ['Locus Award Nominee for Best Young Adult Boo...    6376780   \n",
       "1  ['Bram Stoker Award for Works for Young Reader...    2507623   \n",
       "2  ['Pulitzer Prize for Fiction (1961)', 'Audie A...    4501075   \n",
       "3                                                 []    2998241   \n",
       "4  ['Georgia Peach Book Award (2007)', 'Buxtehude...    4964519   \n",
       "\n",
       "                                      ratingsByStars likedPercent  \\\n",
       "0  ['3444695', '1921313', '745221', '171994', '93...         96.0   \n",
       "1  ['1593642', '637516', '222366', '39573', '14526']         98.0   \n",
       "2  ['2363896', '1333153', '573280', '149952', '80...         95.0   \n",
       "3  ['1617567', '816659', '373311', '113934', '767...         94.0   \n",
       "4  ['1751460', '1113682', '1008686', '542017', '5...         78.0   \n",
       "\n",
       "                                             setting  \\\n",
       "0  ['District 12, Panem', 'Capitol, Panem', 'Pane...   \n",
       "1  ['Hogwarts School of Witchcraft and Wizardry (...   \n",
       "2               ['Maycomb, Alabama (United States)']   \n",
       "3  ['United Kingdom', 'Derbyshire, England (Unite...   \n",
       "4  ['Forks, Washington (United States)', 'Phoenix...   \n",
       "\n",
       "                                            coverImg  bbeScore bbeVotes  price  \n",
       "0  https://i.gr-assets.com/images/S/compressed.ph...   2993816    30516   5.09  \n",
       "1  https://i.gr-assets.com/images/S/compressed.ph...   2632233    26923   7.38  \n",
       "2  https://i.gr-assets.com/images/S/compressed.ph...   2269402    23328    NaN  \n",
       "3  https://i.gr-assets.com/images/S/compressed.ph...   1983116    20452    NaN  \n",
       "4  https://i.gr-assets.com/images/S/compressed.ph...   1459448    14874    2.1  \n",
       "\n",
       "[5 rows x 25 columns]"
      ]
     },
     "execution_count": 42,
     "metadata": {},
     "output_type": "execute_result"
    }
   ],
   "source": [
    "# to read the data from csv file and to do a quick sanity check\n",
    "df=pd.read_csv('books_1.Best_Books_Ever.csv')\n",
    "df.head()"
   ]
  },
  {
   "cell_type": "code",
   "execution_count": 14,
   "id": "b48019f9-6d2e-4aaf-ae4c-bbf99fe50b39",
   "metadata": {
    "tags": []
   },
   "outputs": [
    {
     "data": {
      "text/plain": [
       "(52478, 25)"
      ]
     },
     "execution_count": 14,
     "metadata": {},
     "output_type": "execute_result"
    }
   ],
   "source": [
    "# to determine the number of elements\n",
    "df.shape"
   ]
  },
  {
   "cell_type": "code",
   "execution_count": 8,
   "id": "46300040-f372-4393-b6e6-887da0a0b761",
   "metadata": {
    "tags": []
   },
   "outputs": [
    {
     "name": "stdout",
     "output_type": "stream",
     "text": [
      "<class 'pandas.core.frame.DataFrame'>\n",
      "RangeIndex: 52478 entries, 0 to 52477\n",
      "Data columns (total 25 columns):\n",
      " #   Column            Non-Null Count  Dtype  \n",
      "---  ------            --------------  -----  \n",
      " 0   bookId            52478 non-null  object \n",
      " 1   title             52478 non-null  object \n",
      " 2   series            23470 non-null  object \n",
      " 3   author            52478 non-null  object \n",
      " 4   rating            52478 non-null  float64\n",
      " 5   description       51140 non-null  object \n",
      " 6   language          48672 non-null  object \n",
      " 7   isbn              52478 non-null  object \n",
      " 8   genres            52478 non-null  object \n",
      " 9   characters        52478 non-null  object \n",
      " 10  bookFormat        51005 non-null  object \n",
      " 11  edition           4955 non-null   object \n",
      " 12  pages             50131 non-null  object \n",
      " 13  publisher         48782 non-null  object \n",
      " 14  publishDate       51598 non-null  object \n",
      " 15  firstPublishDate  31152 non-null  object \n",
      " 16  awards            52478 non-null  object \n",
      " 17  numRatings        52478 non-null  int64  \n",
      " 18  ratingsByStars    52478 non-null  object \n",
      " 19  likedPercent      51856 non-null  float64\n",
      " 20  setting           52478 non-null  object \n",
      " 21  coverImg          51873 non-null  object \n",
      " 22  bbeScore          52478 non-null  int64  \n",
      " 23  bbeVotes          52478 non-null  int64  \n",
      " 24  price             38113 non-null  object \n",
      "dtypes: float64(2), int64(3), object(20)\n",
      "memory usage: 10.0+ MB\n"
     ]
    }
   ],
   "source": [
    "# to perform a preliminary exploration of my data\n",
    "df.info()"
   ]
  },
  {
   "cell_type": "code",
   "execution_count": 11,
   "id": "dc4aae4b-3269-4ef2-a35d-c5d8a31ea2e3",
   "metadata": {
    "tags": []
   },
   "outputs": [
    {
     "data": {
      "text/html": [
       "<div>\n",
       "<style scoped>\n",
       "    .dataframe tbody tr th:only-of-type {\n",
       "        vertical-align: middle;\n",
       "    }\n",
       "\n",
       "    .dataframe tbody tr th {\n",
       "        vertical-align: top;\n",
       "    }\n",
       "\n",
       "    .dataframe thead th {\n",
       "        text-align: right;\n",
       "    }\n",
       "</style>\n",
       "<table border=\"1\" class=\"dataframe\">\n",
       "  <thead>\n",
       "    <tr style=\"text-align: right;\">\n",
       "      <th></th>\n",
       "      <th>count</th>\n",
       "      <th>mean</th>\n",
       "      <th>std</th>\n",
       "      <th>min</th>\n",
       "      <th>25%</th>\n",
       "      <th>50%</th>\n",
       "      <th>75%</th>\n",
       "      <th>max</th>\n",
       "    </tr>\n",
       "  </thead>\n",
       "  <tbody>\n",
       "    <tr>\n",
       "      <th>rating</th>\n",
       "      <td>52478.0</td>\n",
       "      <td>4.021878</td>\n",
       "      <td>0.367146</td>\n",
       "      <td>0.0</td>\n",
       "      <td>3.82</td>\n",
       "      <td>4.03</td>\n",
       "      <td>4.23</td>\n",
       "      <td>5.0</td>\n",
       "    </tr>\n",
       "    <tr>\n",
       "      <th>numRatings</th>\n",
       "      <td>52478.0</td>\n",
       "      <td>17878.649263</td>\n",
       "      <td>103944.778529</td>\n",
       "      <td>0.0</td>\n",
       "      <td>341.00</td>\n",
       "      <td>2307.00</td>\n",
       "      <td>9380.50</td>\n",
       "      <td>7048471.0</td>\n",
       "    </tr>\n",
       "    <tr>\n",
       "      <th>likedPercent</th>\n",
       "      <td>51856.0</td>\n",
       "      <td>92.231545</td>\n",
       "      <td>5.990689</td>\n",
       "      <td>0.0</td>\n",
       "      <td>90.00</td>\n",
       "      <td>94.00</td>\n",
       "      <td>96.00</td>\n",
       "      <td>100.0</td>\n",
       "    </tr>\n",
       "    <tr>\n",
       "      <th>bbeScore</th>\n",
       "      <td>52478.0</td>\n",
       "      <td>1984.023305</td>\n",
       "      <td>35153.144366</td>\n",
       "      <td>0.0</td>\n",
       "      <td>84.00</td>\n",
       "      <td>97.00</td>\n",
       "      <td>187.00</td>\n",
       "      <td>2993816.0</td>\n",
       "    </tr>\n",
       "    <tr>\n",
       "      <th>bbeVotes</th>\n",
       "      <td>52478.0</td>\n",
       "      <td>22.529003</td>\n",
       "      <td>369.158541</td>\n",
       "      <td>-4.0</td>\n",
       "      <td>1.00</td>\n",
       "      <td>1.00</td>\n",
       "      <td>2.00</td>\n",
       "      <td>30516.0</td>\n",
       "    </tr>\n",
       "  </tbody>\n",
       "</table>\n",
       "</div>"
      ],
      "text/plain": [
       "                count          mean            std  min     25%      50%  \\\n",
       "rating        52478.0      4.021878       0.367146  0.0    3.82     4.03   \n",
       "numRatings    52478.0  17878.649263  103944.778529  0.0  341.00  2307.00   \n",
       "likedPercent  51856.0     92.231545       5.990689  0.0   90.00    94.00   \n",
       "bbeScore      52478.0   1984.023305   35153.144366  0.0   84.00    97.00   \n",
       "bbeVotes      52478.0     22.529003     369.158541 -4.0    1.00     1.00   \n",
       "\n",
       "                  75%        max  \n",
       "rating           4.23        5.0  \n",
       "numRatings    9380.50  7048471.0  \n",
       "likedPercent    96.00      100.0  \n",
       "bbeScore       187.00  2993816.0  \n",
       "bbeVotes         2.00    30516.0  "
      ]
     },
     "execution_count": 11,
     "metadata": {},
     "output_type": "execute_result"
    }
   ],
   "source": [
    "# to get a summary of the numerical features\n",
    "df.describe().T"
   ]
  },
  {
   "cell_type": "markdown",
   "id": "d8812a81-583e-4251-9959-59284ef4f720",
   "metadata": {},
   "source": [
    "The preliminary EDA reveals the following insights:\n",
    "\n",
    "* My data has 25 columns and 52,478 rows.\n",
    "* The average book rating is around 4.02, with a standard deviation of 0.37.\n",
    "* The number of ratings per book varies widely, with an average of about 17,879 but a high standard deviation, indicating a large spread.\n",
    "* The liked percentage averages at 92.23%, suggesting a generally positive reception for the books.\n",
    "* The bbeScore and bbeVotes have a wide range, which may indicate outliers or a highly varied dataset."
   ]
  },
  {
   "cell_type": "markdown",
   "id": "207b5dc7-26fb-4037-8a1e-2782c3aaedd0",
   "metadata": {},
   "source": [
    "Next, I will check for missing values, duplicated columns and rows, and the presence of any categorical data that may need further exploration."
   ]
  },
  {
   "cell_type": "code",
   "execution_count": 23,
   "id": "ceb2bf7d-ac39-4446-9b00-cef38ca45d4c",
   "metadata": {
    "tags": []
   },
   "outputs": [
    {
     "data": {
      "text/plain": [
       "edition             47523\n",
       "series              29008\n",
       "firstPublishDate    21326\n",
       "price               14365\n",
       "language             3806\n",
       "publisher            3696\n",
       "pages                2347\n",
       "bookFormat           1473\n",
       "description          1338\n",
       "publishDate           880\n",
       "likedPercent          622\n",
       "coverImg              605\n",
       "isbn                    0\n",
       "ratingsByStars          0\n",
       "bbeVotes                0\n",
       "bbeScore                0\n",
       "setting                 0\n",
       "awards                  0\n",
       "numRatings              0\n",
       "genres                  0\n",
       "author                  0\n",
       "rating                  0\n",
       "title                   0\n",
       "characters              0\n",
       "bookId                  0\n",
       "dtype: int64"
      ]
     },
     "execution_count": 23,
     "metadata": {},
     "output_type": "execute_result"
    }
   ],
   "source": [
    "# check the number of missing values for columns and sort them in descending order\n",
    "df.isna().sum().sort_values(ascending=False)"
   ]
  },
  {
   "cell_type": "code",
   "execution_count": 19,
   "id": "97396e0c-0ec1-4adc-8d19-f3eace9ff937",
   "metadata": {
    "tags": []
   },
   "outputs": [
    {
     "data": {
      "text/plain": [
       "50"
      ]
     },
     "execution_count": 19,
     "metadata": {},
     "output_type": "execute_result"
    }
   ],
   "source": [
    "# check for duplicated rows\n",
    "df.duplicated().sum()"
   ]
  },
  {
   "cell_type": "code",
   "execution_count": 20,
   "id": "96fc9fc5-c25e-4892-b351-6fe6c0472c17",
   "metadata": {
    "tags": []
   },
   "outputs": [
    {
     "data": {
      "text/plain": [
       "bookId              False\n",
       "title               False\n",
       "series              False\n",
       "author              False\n",
       "rating              False\n",
       "description         False\n",
       "language            False\n",
       "isbn                False\n",
       "genres              False\n",
       "characters          False\n",
       "bookFormat          False\n",
       "edition             False\n",
       "pages               False\n",
       "publisher           False\n",
       "publishDate         False\n",
       "firstPublishDate    False\n",
       "awards              False\n",
       "numRatings          False\n",
       "ratingsByStars      False\n",
       "likedPercent        False\n",
       "setting             False\n",
       "coverImg            False\n",
       "bbeScore            False\n",
       "bbeVotes            False\n",
       "price               False\n",
       "dtype: bool"
      ]
     },
     "execution_count": 20,
     "metadata": {},
     "output_type": "execute_result"
    }
   ],
   "source": [
    "# check for duplicated columns by transpose\n",
    "df.T.duplicated()"
   ]
  },
  {
   "cell_type": "code",
   "execution_count": 31,
   "id": "59ae0045-f1d9-41cf-95e6-994e712abcc3",
   "metadata": {
    "tags": []
   },
   "outputs": [
    {
     "data": {
      "text/plain": [
       "(bookId              object\n",
       " title               object\n",
       " series              object\n",
       " author              object\n",
       " description         object\n",
       " language            object\n",
       " isbn                object\n",
       " genres              object\n",
       " characters          object\n",
       " bookFormat          object\n",
       " edition             object\n",
       " pages               object\n",
       " publisher           object\n",
       " publishDate         object\n",
       " firstPublishDate    object\n",
       " awards              object\n",
       " ratingsByStars      object\n",
       " setting             object\n",
       " coverImg            object\n",
       " price               object\n",
       " dtype: object,\n",
       " rating          float64\n",
       " numRatings        int64\n",
       " likedPercent    float64\n",
       " bbeScore          int64\n",
       " bbeVotes          int64\n",
       " dtype: object)"
      ]
     },
     "execution_count": 31,
     "metadata": {},
     "output_type": "execute_result"
    }
   ],
   "source": [
    "# to check the data types of the columns and to determine the number of categorical and numerical values\n",
    "data_types = df.dtypes\n",
    "df_cat = data_types[data_types == 'object']\n",
    "df_num = data_types[data_types != 'object']\n",
    "df_cat, df_num"
   ]
  },
  {
   "cell_type": "code",
   "execution_count": 32,
   "id": "9d019511-6427-4a95-9636-6a03f364fbdf",
   "metadata": {
    "tags": []
   },
   "outputs": [
    {
     "data": {
      "text/plain": [
       "(20, 5)"
      ]
     },
     "execution_count": 32,
     "metadata": {},
     "output_type": "execute_result"
    }
   ],
   "source": [
    "df_cat = data_types[data_types == 'object'].count()\n",
    "df_num = data_types[data_types != 'object'].count()\n",
    "df_cat, df_num"
   ]
  },
  {
   "cell_type": "markdown",
   "id": "5756d15f-eb26-4127-9e83-22c7617995d7",
   "metadata": {},
   "source": [
    "* My dataset has some missing values, notably in 'edition', 'series', and 'firstPublishDate' columns.\n",
    "* My dataset also has 50 duplicated rows, but no duplicated columns.\n",
    "* My dataset has 20 categorical columns and 5 numerical columns. "
   ]
  },
  {
   "cell_type": "markdown",
   "id": "fecd3d73-0379-4fd5-a339-640900d196ae",
   "metadata": {},
   "source": [
    "Next, I will explore the distribution of one numerical column 'rating'."
   ]
  },
  {
   "cell_type": "code",
   "execution_count": 39,
   "id": "dc0ac27a-f85b-4ba7-ac6a-907a48631721",
   "metadata": {
    "tags": []
   },
   "outputs": [
    {
     "data": {
      "image/png": "[encoded data removed]",
      "text/plain": [
       "<Figure size 1000x600 with 1 Axes>"
      ]
     },
     "metadata": {},
     "output_type": "display_data"
    }
   ],
   "source": [
    "# Plot distribution of book ratings\n",
    "sns.set_style('whitegrid')\n",
    "plt.figure(figsize=(10, 6))\n",
    "book_ratings = df['rating'].dropna()\n",
    "sns.histplot(book_ratings, bins=50, kde=True)\n",
    "plt.title('Distribution of Book Ratings')\n",
    "plt.xlabel('Rating')\n",
    "plt.ylabel('Frequency')\n",
    "plt.show()\n"
   ]
  },
  {
   "cell_type": "markdown",
   "id": "86a188c7-91e2-497a-9605-aaabb5edaf42",
   "metadata": {},
   "source": [
    "* The Rating Distribution is left-skewed, indicating most books have high ratings. Most books have ratings clustered around 4 stars.\n"
   ]
  },
  {
   "cell_type": "markdown",
   "id": "fc81801c-512c-4f27-9dbd-dbdffc519027",
   "metadata": {},
   "source": [
    "For the next steps, I will do the following:\n",
    "* Remove the duplicated rows to clean the dataset.\n",
    "* Decide how to handle the missing values, either by filling them in or dropping them, depending on the context and importance of the data.\n",
    "* Convert data types, for example, changing the 'price' column to a numeric type.\n",
    "* Identify outliers and decide what to do with them, especially in 'price' column.\n",
    "* Visualize the dataset further.\n",
    "* Research Image Feature Extraction methods and find out if the image can correlate with the book's genre, target audience, or popularity, which might indirectly affect the price.\n",
    "* Create new columns such as 'book age', 'number of characters', 'awards earned', 'number of awards'.\n",
    "* Decide how to handle large text columns such as 'description' and 'setting'."
   ]
  }
 ],
 "metadata": {
  "kernelspec": {
   "display_name": "Python 3 (ipykernel)",
   "language": "python",
   "name": "python3"
  },
  "language_info": {
   "codemirror_mode": {
    "name": "ipython",
    "version": 3
   },
   "file_extension": ".py",
   "mimetype": "text/x-python",
   "name": "python",
   "nbconvert_exporter": "python",
   "pygments_lexer": "ipython3",
   "version": "3.11.5"
  }
 },
 "nbformat": 4,
 "nbformat_minor": 5
}
